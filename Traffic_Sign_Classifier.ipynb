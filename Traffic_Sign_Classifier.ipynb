{
 "cells": [
  {
   "cell_type": "markdown",
   "metadata": {},
   "source": [
    "# Self-Driving Car Engineer Nanodegree\n",
    "\n",
    "## Deep Learning\n",
    "\n",
    "## Project: Build a Traffic Sign Recognition Classifier\n",
    "\n",
    "In this notebook, a template is provided for you to implement your functionality in stages, which is required to successfully complete this project. If additional code is required that cannot be included in the notebook, be sure that the Python code is successfully imported and included in your submission if necessary. \n",
    "\n",
    "> **Note**: Once you have completed all of the code implementations, you need to finalize your work by exporting the iPython Notebook as an HTML document. Before exporting the notebook to html, all of the code cells need to have been run so that reviewers can see the final implementation and output. You can then export the notebook by using the menu above and navigating to  \\n\",\n",
    "    \"**File -> Download as -> HTML (.html)**. Include the finished document along with this notebook as your submission. \n",
    "\n",
    "In addition to implementing code, there is a writeup to complete. The writeup should be completed in a separate file, which can be either a markdown file or a pdf document. There is a [write up template](https://github.com/udacity/CarND-Traffic-Sign-Classifier-Project/blob/master/writeup_template.md) that can be used to guide the writing process. Completing the code template and writeup template will cover all of the [rubric points](https://review.udacity.com/#!/rubrics/481/view) for this project.\n",
    "\n",
    "The [rubric](https://review.udacity.com/#!/rubrics/481/view) contains \"Stand Out Suggestions\" for enhancing the project beyond the minimum requirements. The stand out suggestions are optional. If you decide to pursue the \"stand out suggestions\", you can include the code in this Ipython notebook and also discuss the results in the writeup file.\n",
    "\n",
    "\n",
    ">**Note:** Code and Markdown cells can be executed using the **Shift + Enter** keyboard shortcut. In addition, Markdown cells can be edited by typically double-clicking the cell to enter edit mode."
   ]
  },
  {
   "cell_type": "markdown",
   "metadata": {},
   "source": [
    "---\n",
    "## Step 0: Load The Data"
   ]
  },
  {
   "cell_type": "code",
   "execution_count": 49,
   "metadata": {
    "collapsed": true
   },
   "outputs": [],
   "source": [
    "# Load pickled data\n",
    "import pickle\n",
    "\n",
    "# TODO: Fill this in based on where you saved the training and testing data\n",
    "\n",
    "# Remove the previous weights and bias\n",
    "#tf.reset_default_graph()\n",
    "\n",
    "training_file = 'train.p'\n",
    "validation_file = 'valid.p'\n",
    "testing_file = 'test.p'\n",
    "\n",
    "with open(training_file, mode='rb') as f:\n",
    "    train = pickle.load(f)\n",
    "with open(validation_file, mode='rb') as f:\n",
    "    valid = pickle.load(f)\n",
    "with open(testing_file, mode='rb') as f:\n",
    "    test = pickle.load(f)\n",
    "    \n",
    "X_train, y_train = train['features'], train['labels']\n",
    "X_valid, y_valid = valid['features'], valid['labels']\n",
    "X_test, y_test = test['features'], test['labels']"
   ]
  },
  {
   "cell_type": "markdown",
   "metadata": {},
   "source": [
    "---\n",
    "\n",
    "## Step 1: Dataset Summary & Exploration\n",
    "\n",
    "The pickled data is a dictionary with 4 key/value pairs:\n",
    "\n",
    "- `'features'` is a 4D array containing raw pixel data of the traffic sign images, (num examples, width, height, channels).\n",
    "- `'labels'` is a 1D array containing the label/class id of the traffic sign. The file `signnames.csv` contains id -> name mappings for each id.\n",
    "- `'sizes'` is a list containing tuples, (width, height) representing the original width and height the image.\n",
    "- `'coords'` is a list containing tuples, (x1, y1, x2, y2) representing coordinates of a bounding box around the sign in the image. **THESE COORDINATES ASSUME THE ORIGINAL IMAGE. THE PICKLED DATA CONTAINS RESIZED VERSIONS (32 by 32) OF THESE IMAGES**\n",
    "\n",
    "Complete the basic data summary below. Use python, numpy and/or pandas methods to calculate the data summary rather than hard coding the results. For example, the [pandas shape method](http://pandas.pydata.org/pandas-docs/stable/generated/pandas.DataFrame.shape.html) might be useful for calculating some of the summary results. "
   ]
  },
  {
   "cell_type": "markdown",
   "metadata": {},
   "source": [
    "### Provide a Basic Summary of the Data Set Using Python, Numpy and/or Pandas"
   ]
  },
  {
   "cell_type": "code",
   "execution_count": 50,
   "metadata": {},
   "outputs": [
    {
     "name": "stdout",
     "output_type": "stream",
     "text": [
      "(34799, 32, 32, 3)\n",
      "Number of training examples = 34799\n",
      "Number of validation examples = 4410\n",
      "Number of testing examples = 12630\n",
      "Image data shape = (32, 32, 3)\n",
      "Number of classes = 43\n"
     ]
    }
   ],
   "source": [
    "import tensorflow as tf\n",
    "import numpy as np\n",
    "#import pltlibn_train_org\n",
    "### Replace each question mark with the appropriate value. \n",
    "### Use python, pandas or numpy methods rather than hard coding the results\n",
    "\n",
    "# TODO: Number of training examples\n",
    "n_train = np.shape(y_train)[0]\n",
    "n_train_org = np.shape(y_train)[0]\n",
    "print(X_train.shape)\n",
    "\n",
    "# TODO: Number of validation examples\n",
    "n_validation = np.shape(y_valid)[0]\n",
    "\n",
    "# TODO: Number of testing examples.\n",
    "n_test = np.shape(y_test)[0]\n",
    "\n",
    "# TODO: What's the shape of an traffic sign image?\n",
    "image_shape = np.shape(X_train)[1:]\n",
    "\n",
    "\n",
    "# TODO: How many unique classes/labels there are in the dataset.\n",
    "n_classes = np.max(y_train) + 1\n",
    "\n",
    "print(\"Number of training examples =\", n_train)\n",
    "print(\"Number of validation examples =\", n_validation)\n",
    "print(\"Number of testing examples =\", n_test)\n",
    "print(\"Image data shape =\", image_shape)\n",
    "print(\"Number of classes =\", n_classes)"
   ]
  },
  {
   "cell_type": "markdown",
   "metadata": {},
   "source": [
    "### Include an exploratory visualization of the dataset"
   ]
  },
  {
   "cell_type": "markdown",
   "metadata": {},
   "source": [
    "Visualize the German Traffic Signs Dataset using the pickled file(s). This is open ended, suggestions include: plotting traffic sign images, plotting the count of each sign, etc. \n",
    "\n",
    "The [Matplotlib](http://matplotlib.org/) [examples](http://matplotlib.org/examples/index.html) and [gallery](http://matplotlib.org/gallery.html) pages are a great resource for doing visualizations in Python.\n",
    "\n",
    "**NOTE:** It's recommended you start with something simple first. If you wish to do more, come back to it after you've completed the rest of the sections. It can be interesting to look at the distribution of classes in the training, validation and test set. Is the distribution the same? Are there more examples of some classes than others?"
   ]
  },
  {
   "cell_type": "code",
   "execution_count": 51,
   "metadata": {},
   "outputs": [
    {
     "name": "stdout",
     "output_type": "stream",
     "text": [
      "[34799, 4410, 12630]\n"
     ]
    },
    {
     "data": {
      "image/png": "[encoded data removed]",
      "text/plain": [
       "<matplotlib.figure.Figure at 0x10e7c6128>"
      ]
     },
     "metadata": {},
     "output_type": "display_data"
    }
   ],
   "source": [
    "### Data exploration visualization code goes here.\n",
    "### Feel free to use as many code cells as needed.\n",
    "import matplotlib.pyplot as plt\n",
    "# Visualizations will be shown in the notebook.\n",
    "%matplotlib inline\n",
    "\n",
    "from matplotlib.ticker import FuncFormatter\n",
    "import matplotlib.pyplot as plt\n",
    "import numpy as np\n",
    "\n",
    "x = np.arange(3)\n",
    "num_data =[n_train, n_validation, n_test]\n",
    "print(num_data)\n",
    "\n",
    "fig, ax = plt.subplots()\n",
    "plt.bar(x, num_data)\n",
    "plt.xticks(x, ('Training Set', 'Validation Set', 'Test Set'))\n",
    "ax.set_ylabel('Number of Images')\n",
    "ax.set_title('Data Set')\n",
    "plt.show()\n"
   ]
  },
  {
   "cell_type": "markdown",
   "metadata": {},
   "source": [
    "### [Optional] - Generate Augmented Data set example \n",
    "\n",
    "Result didn't help, then skipped in training for final submit"
   ]
  },
  {
   "cell_type": "code",
   "execution_count": null,
   "metadata": {
    "collapsed": true,
    "scrolled": true
   },
   "outputs": [],
   "source": [
    "### Generate augmented Data set\n",
    "# Once this has been executed only once, and saved into file, then skip this,\n",
    "# and load that file instead.\n",
    "\n",
    "import cv2\n",
    "import math\n",
    "import numpy as np\n",
    "from numpy import zeros, newaxis\n",
    "\n",
    "def salt_pepper(image, ps=.05, pp=.05):\n",
    "    im1=image[:,:,0].copy()\n",
    "    n,m=im1.shape\n",
    "    for i in range(n):\n",
    "        for j in range(m):\n",
    "            b=np.random.uniform()\n",
    "            if b<ps:\n",
    "                im1[i,j]=0\n",
    "            elif b>1-pp:\n",
    "                im1[i,j]=255\n",
    "    noisy_image=[[[im1[i,j]]*3 for j in range(m)] for i in range(n)]\n",
    "    return noisy_image\n",
    "\n",
    "def FilteredImage(image):\n",
    "    # Blur\n",
    "    image_noise = image[:,:,0].copy()  \n",
    "    ksize = 5\n",
    "    image_noise = cv2.medianBlur(image, ksize)\n",
    "    return image_noise\n",
    "\n",
    "index = 100\n",
    "\n",
    "fig = plt.figure(figsize=(5,5))\n",
    "\n",
    "a=fig.add_subplot(1, 3, 1)\n",
    "image = X_train[index].squeeze()\n",
    "plt.imshow(image)\n",
    "\n",
    "a=fig.add_subplot(1, 3, 2)\n",
    "image_noise = FilteredImage(X_train[index])\n",
    "plt.imshow(image_noise)\n",
    "\n",
    "#a=fig.add_subplot(1, 3, 3)\n",
    "#image_noise = salt_pepper(X_train[index])\n",
    "#plt.imshow(image_noise)\n",
    "\n",
    "num = int(len(X_train) / 1)\n",
    "\n",
    "print(\"Augmented Image Generated:\")\n",
    "for i in range (num):\n",
    "    image_noise = FilteredImage(X_train[i])\n",
    "    image_noise = image_noise[newaxis, ...]\n",
    "    #print(X_train.shape)\n",
    "    #print(X_train[i].shape)\n",
    "    #print(image_noise.shape)\n",
    "  \n",
    "    y_train_tmp = y_train[i]\n",
    "    y_train_ext = y_train_tmp[newaxis, ...]\n",
    "    #print(y_train.shape)\n",
    "    #print(y_train_ext.shape)\n",
    "    #print(image_noise.shape)\n",
    "    \n",
    "    X_train = np.append(X_train, image_noise, axis = 0)\n",
    "    y_train = np.append(y_train, y_train_ext, axis = 0)\n",
    "    if (i % 1000 == 0):\n",
    "        print(i)\n",
    "\n",
    "print(X_train.shape)\n",
    "print(y_train.shape)\n",
    "\n",
    "# Save new Training set into file\n",
    "train_ext_file = 'train_ext.p'\n",
    "\n",
    "#train_ext['features'], train_ext['labels'] = X_train, y_train\n",
    "\n",
    "train_ext = {'features': X_train, 'labels': y_train}\n",
    "\n",
    "with open(train_ext_file, mode='wb') as f:\n",
    "    pickle.dump(train_ext, f)\n",
    "    \n"
   ]
  },
  {
   "cell_type": "markdown",
   "metadata": {},
   "source": [
    "### [Optional] - Load saved Augmented Data set\n",
    "\n",
    "Result didn't help, then skipped in training for final submit."
   ]
  },
  {
   "cell_type": "code",
   "execution_count": null,
   "metadata": {
    "collapsed": true
   },
   "outputs": [],
   "source": [
    "### Data exploration visualization code goes here.\n",
    "### Feel free to use as many code cells as needed.\n",
    "import matplotlib.pyplot as plt\n",
    "# Visualizations will be shown in the notebook.\n",
    "%matplotlib inline\n",
    "\n",
    "from matplotlib.ticker import FuncFormatter\n",
    "import matplotlib.pyplot as plt\n",
    "import numpy as np\n",
    "\n",
    "\n",
    "# Load new Training set into file\n",
    "train_ext_file = 'train_ext.p'\n",
    "\n",
    "with open(train_ext_file, mode='rb') as f:\n",
    "    train = pickle.load(f)\n",
    "    \n",
    "X_train, y_train = train['features'], train['labels']\n",
    "\n",
    "print(X_train.shape)\n",
    "print(y_train.shape)\n",
    "print(n_train_org)\n",
    "\n",
    "# Load image, and augmented image\n",
    "\n",
    "index = 150\n",
    "\n",
    "fig = plt.figure(figsize=(5,5))\n",
    "\n",
    "a=fig.add_subplot(1, 3, 1)\n",
    "image = X_train[index].squeeze()\n",
    "plt.imshow(image)\n",
    "print(\"y Lable in original image: \", y_train[index])\n",
    "\n",
    "a=fig.add_subplot(1, 3, 2)\n",
    "image = X_train[index + n_train_org].squeeze()\n",
    "plt.imshow(image)\n",
    "print(\"y Lable in augmented image: \", y_train[index + n_train_org])\n",
    "\n",
    "# Number of samples\n",
    "\n",
    "#n_train_org = np.shape(y_train)[0]\n",
    "n_train = len(X_train)\n",
    "print(\"Number of training (w/Augmented) =\", n_train)\n",
    "\n",
    "x = np.arange(4)\n",
    "num_data =[n_train_org, n_train, n_validation, n_test]\n",
    "print(num_data)\n",
    "\n",
    "fig, ax = plt.subplots()\n",
    "plt.bar(x, num_data)\n",
    "plt.xticks(x, ('Org Train Set', 'Aug Train Set', 'Validation Set', 'Test Set'))\n",
    "ax.set_ylabel('Number of Images')\n",
    "ax.set_title('Data Set')\n",
    "plt.show()\n"
   ]
  },
  {
   "cell_type": "markdown",
   "metadata": {},
   "source": [
    "----\n",
    "\n",
    "## Step 2: Design and Test a Model Architecture\n",
    "\n",
    "Design and implement a deep learning model that learns to recognize traffic signs. Train and test your model on the [German Traffic Sign Dataset](http://benchmark.ini.rub.de/?section=gtsrb&subsection=dataset).\n",
    "\n",
    "The LeNet-5 implementation shown in the [classroom](https://classroom.udacity.com/nanodegrees/nd013/parts/fbf77062-5703-404e-b60c-95b78b2f3f9e/modules/6df7ae49-c61c-4bb2-a23e-6527e69209ec/lessons/601ae704-1035-4287-8b11-e2c2716217ad/concepts/d4aca031-508f-4e0b-b493-e7b706120f81) at the end of the CNN lesson is a solid starting point. You'll have to change the number of classes and possibly the preprocessing, but aside from that it's plug and play! \n",
    "\n",
    "With the LeNet-5 solution from the lecture, you should expect a validation set accuracy of about 0.89. To meet specifications, the validation set accuracy will need to be at least 0.93. It is possible to get an even higher accuracy, but 0.93 is the minimum for a successful project submission. \n",
    "\n",
    "There are various aspects to consider when thinking about this problem:\n",
    "\n",
    "- Neural network architecture (is the network over or underfitting?)\n",
    "- Play around preprocessing techniques (normalization, rgb to grayscale, etc)\n",
    "- Number of examples per label (some have more than others).\n",
    "- Generate fake data.\n",
    "\n",
    "Here is an example of a [published baseline model on this problem](http://yann.lecun.com/exdb/publis/pdf/sermanet-ijcnn-11.pdf). It's not required to be familiar with the approach used in the paper but, it's good practice to try to read papers like these."
   ]
  },
  {
   "cell_type": "markdown",
   "metadata": {},
   "source": [
    "### Pre-process the Data Set (normalization, grayscale, etc.)"
   ]
  },
  {
   "cell_type": "markdown",
   "metadata": {},
   "source": [
    "Minimally, the image data should be normalized so that the data has mean zero and equal variance. For image data, `(pixel - 128)/ 128` is a quick way to approximately normalize the data and can be used in this project. \n",
    "\n",
    "Other pre-processing steps are optional. You can try different techniques to see if it improves performance. \n",
    "\n",
    "Use the code cell (or multiple code cells, if necessary) to implement the first step of your project."
   ]
  },
  {
   "cell_type": "code",
   "execution_count": 52,
   "metadata": {
    "collapsed": true
   },
   "outputs": [],
   "source": [
    "### Preprocess the data here. It is required to normalize the data. Other preprocessing steps could include \n",
    "### converting to grayscale, etc.\n",
    "### Feel free to use as many code cells as needed.\n",
    "import cv2\n",
    "import math\n",
    "import numpy as np\n",
    "from numpy import zeros, newaxis\n",
    "\n",
    "def PreProcessorGray(image):\n",
    "    image_gray = image.copy()\n",
    "    # Convert RGB to Gray\n",
    "    image_gray = np.dot(image[...,:3], [0.299, 0.587, 0.114])\n",
    "    return np.uint8(image_gray)\n",
    "\n",
    "def PreProcessorEq(image):\n",
    "    num = len(image)\n",
    "    #print(num)\n",
    "    # Equalization\n",
    "    for i in range (num):\n",
    "        image[i, ...] = cv2.equalizeHist(image[i, ...])\n",
    "\n",
    "    #return image[..., newaxis]\n",
    "    return image\n"
   ]
  },
  {
   "cell_type": "code",
   "execution_count": 53,
   "metadata": {},
   "outputs": [
    {
     "name": "stdout",
     "output_type": "stream",
     "text": [
      "(34799, 32, 32, 1)\n",
      "(4410, 32, 32, 1)\n",
      "(12630, 32, 32, 1)\n",
      "(12630, 32, 32, 1)\n",
      "(12630,)\n"
     ]
    }
   ],
   "source": [
    "### Preprocess the data here. It is required to normalize the data. Other preprocessing steps could include \n",
    "### converting to grayscale, etc.\n",
    "### Feel free to use as many code cells as needed.\n",
    "import cv2\n",
    "import math\n",
    "import numpy as np\n",
    "from numpy import zeros, newaxis\n",
    "\n",
    "# Convert RGB to Gray\n",
    "X_train_gray = PreProcessorGray(X_train)\n",
    "X_valid_gray = PreProcessorGray(X_valid)\n",
    "X_test_gray = PreProcessorGray(X_test)\n",
    "\n",
    "# Equalization\n",
    "X_train_gray = PreProcessorEq(X_train_gray)\n",
    "X_valid_gray = PreProcessorEq(X_valid_gray)\n",
    "X_test_gray = PreProcessorEq(X_test_gray)\n",
    "\n",
    "# Add one more dummy array at the end even if GRAY\n",
    "X_train_gray = X_train_gray[..., newaxis]\n",
    "X_valid_gray = X_valid_gray[..., newaxis]\n",
    "X_test_gray = X_test_gray[..., newaxis]\n",
    "#print(X_train_gray.shape)\n",
    "\n",
    "# Normalize to [-1 : +1]    \n",
    "#X_train_norm = (X_train_gray - 128) / 128\n",
    "#X_valid_norm = (X_valid_gray - 128) / 128\n",
    "#X_test_norm = (X_test_gray - 128) / 128\n",
    "# Normalize to [0 : +1]\n",
    "X_train_norm = (X_train_gray - 0) / 256\n",
    "X_valid_norm = (X_valid_gray - 0) / 256\n",
    "X_test_norm = (X_test_gray - 0) / 256\n",
    "\n",
    "print(X_train_gray.shape)\n",
    "print(X_valid_gray.shape)\n",
    "print(X_test_gray.shape)\n",
    "\n",
    "print(X_test_norm.shape)\n",
    "print(y_test.shape)\n",
    "\n",
    "#print(X_test_norm)\n",
    "#print(y_test)"
   ]
  },
  {
   "cell_type": "markdown",
   "metadata": {},
   "source": [
    "### Model Architecture"
   ]
  },
  {
   "cell_type": "code",
   "execution_count": 54,
   "metadata": {
    "collapsed": true
   },
   "outputs": [],
   "source": [
    "import tensorflow as tf\n",
    "from tensorflow.contrib.layers import flatten\n",
    "\n",
    "def LeNet(x, keep_drop):    \n",
    "    # Arguments used for tf.truncated_normal, randomly defines variables for the weights and biases for each layer\n",
    "    mu = 0.0\n",
    "    sigma = 0.1\n",
    "    \n",
    "    # TODO: Layer 1: Convolutional. Input = 32x32x1. Output = 28x28x12.\n",
    "    F_W1 = tf.Variable(tf.truncated_normal([5, 5, 1, 12], mean = mu, stddev = sigma), name='F_W1')\n",
    "    F_B1 = tf.Variable(tf.zeros([12]), name='F_B1')\n",
    "    stride = [1, 1, 1, 1]\n",
    "    padding = 'VALID'\n",
    "    L1ConvOut = tf.nn.conv2d(x, F_W1, stride, padding) + F_B1\n",
    "\n",
    "    # TODO: Activation.\n",
    "    L1ActiveOut = tf.nn.relu(L1ConvOut)\n",
    "    L1ActiveDrop = tf.nn.dropout(L1ActiveOut, keep_drop)\n",
    "    \n",
    "    # TODO: Pooling. Input = 28x28x12. Output = 14x14x12.\n",
    "    ksize = [1, 2, 2, 1]\n",
    "    stride = [1, 2, 2, 1]\n",
    "    padding = 'VALID'\n",
    "    L1PoolOut = tf.nn.max_pool(L1ActiveDrop, ksize, stride, padding)\n",
    "    \n",
    "    # TODO: Layer 2: Convolutional. Output = 10x10x32.\n",
    "    F_W2 = tf.Variable(tf.truncated_normal([5, 5, 12, 32], mean = mu, stddev = sigma), name='F_W2')\n",
    "    F_B2 = tf.Variable(tf.zeros([32]), name='F_B2')\n",
    "    stride = [1, 1, 1, 1]\n",
    "    padding = 'VALID'\n",
    "    L2ConvOut = tf.nn.conv2d(L1PoolOut, F_W2, stride, padding) + F_B2\n",
    "    \n",
    "    # TODO: Activation.\n",
    "    L2ActiveOut = tf.nn.relu(L2ConvOut)\n",
    "    L2ActiveDrop = tf.nn.dropout(L2ActiveOut, keep_drop)\n",
    "    \n",
    "    # TODO: Pooling. Input = 10x10x32. Output = 5x5x32.\n",
    "    ksize = [1, 2, 2, 1]\n",
    "    stride = [1, 2, 2, 1]\n",
    "    padding = 'VALID'\n",
    "    L2PoolOut = tf.nn.max_pool(L2ActiveDrop, ksize, stride, padding)\n",
    "    \n",
    "    # TODO: Flatten. Input = 5x5x32. Output = 800.\n",
    "    #L2Flatten = tf.reshape(L2PoolOut, [-1])\n",
    "    L2Flatten = flatten(L2PoolOut)\n",
    "    \n",
    "    # TODO: Layer 3: Fully Connected. Input = 800. Output = 240.\n",
    "    F_W3 = tf.Variable(tf.truncated_normal([800, 240], mean = mu, stddev = sigma), name='F_W3')\n",
    "    F_B3 = tf.Variable(tf.zeros([240]), name='F_B3')\n",
    "    \n",
    "    #print(L2Flatten)\n",
    "    #print(F_W3)\n",
    "    L3LinOut = tf.add(tf.matmul(L2Flatten, F_W3), F_B3)\n",
    "    \n",
    "    # TODO: Activation.\n",
    "    L3ActiveOut = tf.nn.relu(L3LinOut)\n",
    "    L3ActiveDrop = tf.nn.dropout(L3ActiveOut, keep_drop)\n",
    "\n",
    "    # TODO: Layer 4: Fully Connected. Input = 240. Output = 168.\n",
    "    F_W4 = tf.Variable(tf.truncated_normal([240, 168]), name='F_W4')\n",
    "    F_B4 = tf.Variable(tf.zeros([168]), name='F_B4')\n",
    "    L4LinOut = tf.add(tf.matmul(L3ActiveDrop, F_W4), F_B4)\n",
    "    \n",
    "    # TODO: Activation.\n",
    "    L4ActiveOut = tf.nn.relu(L4LinOut)\n",
    "    L4ActiveDrop = tf.nn.dropout(L4ActiveOut, keep_drop)\n",
    "    \n",
    "    # TODO: Layer 5: Fully Connected. Input = 168. Output = n_classes.\n",
    "    F_W5 = tf.Variable(tf.truncated_normal([168, n_classes], mean = mu, stddev = sigma), name='F_W5')\n",
    "    F_B5 = tf.Variable(tf.zeros(n_classes), name='F_B5')\n",
    "    L5LinOut = tf.add(tf.matmul(L4ActiveDrop, F_W5), F_B5)\n",
    "    logits = L5LinOut\n",
    "    \n",
    "    return logits"
   ]
  },
  {
   "cell_type": "markdown",
   "metadata": {},
   "source": [
    "### Train, Validate and Test the Model"
   ]
  },
  {
   "cell_type": "markdown",
   "metadata": {},
   "source": [
    "A validation set can be used to assess how well the model is performing. A low accuracy on the training and validation\n",
    "sets imply underfitting. A high accuracy on the training set but low accuracy on the validation set implies overfitting."
   ]
  },
  {
   "cell_type": "code",
   "execution_count": 55,
   "metadata": {},
   "outputs": [
    {
     "name": "stdout",
     "output_type": "stream",
     "text": [
      "Tensor(\"one_hot_2:0\", dtype=float32)\n"
     ]
    }
   ],
   "source": [
    "### Train your model here.\n",
    "### Calculate and report the accuracy on the training and validation set.\n",
    "### Once a final model architecture is selected, \n",
    "### the accuracy on the test set should be calculated and reported as well.\n",
    "### Feel free to use as many code cells as needed.\n",
    "\n",
    "from sklearn.utils import shuffle\n",
    "\n",
    "# Placeholder & one_hot_y\n",
    "x = tf.placeholder(tf.float32, (None, 32, 32, 1))\n",
    "y = tf.placeholder(tf.int32, (None))\n",
    "keep_drop = tf.placeholder(tf.float32)\n",
    "one_hot_y = tf.one_hot(y, n_classes)\n",
    "\n",
    "# Training\n",
    "rate = 0.001 # 0.001\n",
    "EPOCHS = 20 # 10\n",
    "BATCH_SIZE = 128\n",
    "KEEP_DROP = 0.67     # Keep Rate with Dropout\n",
    "\n",
    "logits = LeNet(x, keep_drop)\n",
    "\n",
    "#print(logits)\n",
    "print(one_hot_y)\n",
    "\n",
    "cross_entropy = tf.nn.softmax_cross_entropy_with_logits(labels=one_hot_y, logits=logits)\n",
    "loss_operation = tf.reduce_mean(cross_entropy)\n",
    "optimizer = tf.train.AdamOptimizer(learning_rate = rate)\n",
    "training_operation = optimizer.minimize(loss_operation)\n",
    "\n",
    "correct_prediction = tf.equal(tf.argmax(logits, 1), tf.argmax(one_hot_y, 1))\n",
    "accuracy_operation = tf.reduce_mean(tf.cast(correct_prediction, tf.float32))\n",
    "\n",
    "\n",
    "def evaluate(X_data, y_data):\n",
    "    num_examples = len(X_data)\n",
    "    total_accuracy = 0\n",
    "    sess = tf.get_default_session()\n",
    "    for offset in range(0, num_examples, BATCH_SIZE):\n",
    "        batch_x, batch_y = X_data[offset:offset+BATCH_SIZE], y_data[offset:offset+BATCH_SIZE]\n",
    "        accuracy = sess.run(accuracy_operation, \\\n",
    "                            feed_dict={x: batch_x, y: batch_y, keep_drop: 1.0})\n",
    "        total_accuracy += (accuracy * len(batch_x))\n",
    "    return total_accuracy / num_examples\n"
   ]
  },
  {
   "cell_type": "code",
   "execution_count": 56,
   "metadata": {},
   "outputs": [
    {
     "name": "stdout",
     "output_type": "stream",
     "text": [
      "34799\n",
      "Training...\n",
      "\n",
      "EPOCH 1 ...\n",
      "Training Accuracy = 0.697\n",
      "Validation Accuracy = 0.629\n",
      "\n",
      "EPOCH 2 ...\n",
      "Training Accuracy = 0.854\n",
      "Validation Accuracy = 0.787\n",
      "\n",
      "EPOCH 3 ...\n",
      "Training Accuracy = 0.914\n",
      "Validation Accuracy = 0.865\n",
      "\n",
      "EPOCH 4 ...\n",
      "Training Accuracy = 0.924\n",
      "Validation Accuracy = 0.874\n",
      "\n",
      "EPOCH 5 ...\n",
      "Training Accuracy = 0.959\n",
      "Validation Accuracy = 0.917\n",
      "\n",
      "EPOCH 6 ...\n",
      "Training Accuracy = 0.971\n",
      "Validation Accuracy = 0.927\n",
      "\n",
      "EPOCH 7 ...\n",
      "Training Accuracy = 0.970\n",
      "Validation Accuracy = 0.933\n",
      "\n",
      "EPOCH 8 ...\n",
      "Training Accuracy = 0.973\n",
      "Validation Accuracy = 0.935\n",
      "\n",
      "EPOCH 9 ...\n",
      "Training Accuracy = 0.984\n",
      "Validation Accuracy = 0.944\n",
      "\n",
      "EPOCH 10 ...\n",
      "Training Accuracy = 0.982\n",
      "Validation Accuracy = 0.947\n",
      "\n",
      "EPOCH 11 ...\n",
      "Training Accuracy = 0.985\n",
      "Validation Accuracy = 0.948\n",
      "\n",
      "EPOCH 12 ...\n",
      "Training Accuracy = 0.989\n",
      "Validation Accuracy = 0.955\n",
      "\n",
      "EPOCH 13 ...\n",
      "Training Accuracy = 0.988\n",
      "Validation Accuracy = 0.959\n",
      "\n",
      "EPOCH 14 ...\n",
      "Training Accuracy = 0.990\n",
      "Validation Accuracy = 0.963\n",
      "\n",
      "EPOCH 15 ...\n",
      "Training Accuracy = 0.989\n",
      "Validation Accuracy = 0.957\n",
      "\n",
      "EPOCH 16 ...\n",
      "Training Accuracy = 0.993\n",
      "Validation Accuracy = 0.960\n",
      "\n",
      "EPOCH 17 ...\n",
      "Training Accuracy = 0.987\n",
      "Validation Accuracy = 0.950\n",
      "\n",
      "EPOCH 18 ...\n",
      "Training Accuracy = 0.991\n",
      "Validation Accuracy = 0.960\n",
      "\n",
      "EPOCH 19 ...\n",
      "Training Accuracy = 0.994\n",
      "Validation Accuracy = 0.964\n",
      "\n",
      "EPOCH 20 ...\n",
      "Training Accuracy = 0.993\n",
      "Validation Accuracy = 0.959\n",
      "\n",
      "Model saved\n"
     ]
    }
   ],
   "source": [
    "# Actual Training loop\n",
    "\n",
    "# Accuracy per iteration\n",
    "iter_accuracy_train = []\n",
    "iter_accuracy_valid = []\n",
    "\n",
    "saver = tf.train.Saver()\n",
    "\n",
    "with tf.Session() as sess:\n",
    "    sess.run(tf.global_variables_initializer())\n",
    "    num_examples = len(X_train_norm)\n",
    "    print(num_examples)\n",
    "    print(\"Training...\")\n",
    "    print()\n",
    "    for i in range(EPOCHS):\n",
    "        X_train_sf, y_train_sf = shuffle(X_train_norm, y_train)\n",
    "        for offset in range(0, num_examples, BATCH_SIZE):\n",
    "            end = offset + BATCH_SIZE\n",
    "            batch_x, batch_y = X_train_sf[offset:end], y_train_sf[offset:end]\n",
    "            sess.run(training_operation, \\\n",
    "                     feed_dict={x: batch_x, y: batch_y, keep_drop: KEEP_DROP})\n",
    "\n",
    "        training_accuracy = evaluate(X_train_norm, y_train)\n",
    "        print(\"EPOCH {} ...\".format(i+1))\n",
    "        print(\"Training Accuracy = {:.3f}\".format(training_accuracy))\n",
    "        \n",
    "        validation_accuracy = evaluate(X_valid_norm, y_valid)\n",
    "        #print(\"EPOCH {} ...\".format(i+1))\n",
    "        print(\"Validation Accuracy = {:.3f}\".format(validation_accuracy))\n",
    "        print()\n",
    "        \n",
    "        iter_accuracy_train.append(training_accuracy)\n",
    "        iter_accuracy_valid.append(validation_accuracy)\n",
    "        \n",
    "    saver.save(sess, './lenet')\n",
    "    print(\"Model saved\")\n",
    "\n"
   ]
  },
  {
   "cell_type": "markdown",
   "metadata": {},
   "source": [
    "### Plot the accuracy via iteration"
   ]
  },
  {
   "cell_type": "code",
   "execution_count": 57,
   "metadata": {},
   "outputs": [
    {
     "data": {
      "image/png": "[encoded data removed]",
      "text/plain": [
       "<matplotlib.figure.Figure at 0x117ef5eb8>"
      ]
     },
     "metadata": {},
     "output_type": "display_data"
    }
   ],
   "source": [
    "# plot the accuracy\n",
    "plt.plot(iter_accuracy_train)\n",
    "plt.plot(iter_accuracy_valid)\n",
    "plt.ylabel('Accuracy')\n",
    "plt.xlabel('Epoch')\n",
    "plt.title(\"Learning rate =\" + str(rate))\n",
    "plt.legend(('Training', 'Validation'), shadow=True, fancybox=True)\n",
    "plt.show()"
   ]
  },
  {
   "cell_type": "markdown",
   "metadata": {},
   "source": [
    "---\n",
    "\n",
    "## Step 3: Test a Model on New Images\n",
    "\n",
    "To give yourself more insight into how your model is working, download at least five pictures of German traffic signs from the web and use your model to predict the traffic sign type.\n",
    "\n",
    "You may find `signnames.csv` useful as it contains mappings from the class id (integer) to the actual sign name."
   ]
  },
  {
   "cell_type": "markdown",
   "metadata": {},
   "source": [
    "### Load and Output the Images"
   ]
  },
  {
   "cell_type": "code",
   "execution_count": 58,
   "metadata": {
    "collapsed": true
   },
   "outputs": [],
   "source": [
    "#saver = tf.train.Saver()\n",
    "#saver.restore(sess, './lenet')"
   ]
  },
  {
   "cell_type": "code",
   "execution_count": 59,
   "metadata": {},
   "outputs": [
    {
     "name": "stdout",
     "output_type": "stream",
     "text": [
      "Image.shape:  (32, 32, 3)\n",
      "Label:  4\n"
     ]
    },
    {
     "data": {
      "image/png": "[encoded data removed]",
      "text/plain": [
       "<matplotlib.figure.Figure at 0x10e7c66a0>"
      ]
     },
     "metadata": {},
     "output_type": "display_data"
    }
   ],
   "source": [
    "### Load the images and plot them here.\n",
    "### Feel free to use as many code cells as needed.\n",
    "import random\n",
    "import numpy as np\n",
    "import matplotlib.pyplot as plt\n",
    "import cv2\n",
    "%matplotlib inline\n",
    "\n",
    "#index = 310\n",
    "index = random.randint(0, len(X_train))\n",
    "\n",
    "fig = plt.figure(figsize=(5,5))\n",
    "\n",
    "a=fig.add_subplot(1, 3, 1)\n",
    "image = X_train[index].squeeze()\n",
    "plt.imshow(image[:,:,:])\n",
    "\n",
    "#print(X_train[index].shape)\n",
    "print('Image.shape: ', image.shape)\n",
    "print('Label: ', + y_train[index])\n",
    "\n",
    "# Gray scale\n",
    "##image_gray_f = np.dot(image[...,:3], [0.299, 0.587, 0.114])\n",
    "##image_gray = image_gray_f.convertTo(CV_8UC1)\n",
    "#image_gray = cv2.cvtColor(image,cv2.COLOR_BGR2GRAY)\n",
    "#a=fig.add_subplot(1, 3, 2)\n",
    "#plt.imshow(image_gray, cmap='gray')\n",
    "\n",
    "a=fig.add_subplot(1, 3, 2)\n",
    "array_gray = PreProcessorGray(X_train)\n",
    "image_gray = array_gray[index].squeeze()\n",
    "plt.imshow(image_gray, cmap='gray')\n",
    "\n",
    "# Normalized Image\n",
    "a=fig.add_subplot(1, 3, 3)\n",
    "array_eq = PreProcessorEq(array_gray) \n",
    "image_eq = array_eq[index].squeeze()\n",
    "plt.imshow(image_eq, cmap='gray')\n",
    "    \n",
    "X_train_norm = (X_train_gray - 0) / 256\n",
    "    "
   ]
  },
  {
   "cell_type": "markdown",
   "metadata": {},
   "source": [
    "### Predict the Sign Type for Each Image"
   ]
  },
  {
   "cell_type": "code",
   "execution_count": 60,
   "metadata": {},
   "outputs": [
    {
     "name": "stdout",
     "output_type": "stream",
     "text": [
      "(12630, 32, 32, 1)\n",
      "(12630,)\n",
      "Test Accuracy = 0.936\n"
     ]
    }
   ],
   "source": [
    "### Run the predictions here and use the model to output the prediction for each image.\n",
    "### Make sure to pre-process the images with the same pre-processing pipeline used earlier.\n",
    "### Feel free to use as many code cells as needed.\n",
    "saver = tf.train.Saver()\n",
    "\n",
    "with tf.Session() as sess:\n",
    "    saver.restore(sess, './lenet')\n",
    "\n",
    "    print(X_test_norm.shape)\n",
    "    print(y_test.shape)\n",
    "    test_accuracy = evaluate(X_test_norm, y_test)\n",
    "    print(\"Test Accuracy = {:.3f}\".format(test_accuracy))"
   ]
  },
  {
   "cell_type": "markdown",
   "metadata": {},
   "source": [
    "### Analyze Performance"
   ]
  },
  {
   "cell_type": "code",
   "execution_count": 61,
   "metadata": {},
   "outputs": [
    {
     "name": "stdout",
     "output_type": "stream",
     "text": [
      "Test Accuracy = 1.000\n"
     ]
    }
   ],
   "source": [
    "### Calculate the accuracy for these 5 new images. \n",
    "### For example, if the model predicted 1 out of 5 signs correctly, it's 20% accurate on these new images.\n",
    "\n",
    "num_display = 5\n",
    "batch_size = 1\n",
    "saver = tf.train.Saver()\n",
    "\n",
    "with tf.Session() as sess:\n",
    "    #saver.restore(sess, tf.train.latest_checkpoint('.'))\n",
    "    saver.restore(sess, './lenet')\n",
    "\n",
    "    X_valid_sf, y_valid_sf = shuffle(X_valid_norm, y_valid)\n",
    "    #for offset in range(0, num_display, batch_size):\n",
    "    offset = 0\n",
    "    end = offset + num_display\n",
    "    batch_x, batch_y = X_valid_sf[offset:end], y_valid_sf[offset:end]\n",
    "\n",
    "    #sess.run(training_operation, feed_dict={x: batch_x, y: batch_y})\n",
    "    valid_accuracy = evaluate(batch_x, batch_y)\n",
    "    print(\"Test Accuracy = {:.3f}\".format(valid_accuracy))"
   ]
  },
  {
   "cell_type": "markdown",
   "metadata": {},
   "source": [
    "### Output Top 5 Softmax Probabilities For Each Image Found on the Web"
   ]
  },
  {
   "cell_type": "markdown",
   "metadata": {},
   "source": [
    "For each of the new images, print out the model's softmax probabilities to show the **certainty** of the model's predictions (limit the output to the top 5 probabilities for each image). [`tf.nn.top_k`](https://www.tensorflow.org/versions/r0.12/api_docs/python/nn.html#top_k) could prove helpful here. \n",
    "\n",
    "The example below demonstrates how tf.nn.top_k can be used to find the top k predictions for each image.\n",
    "\n",
    "`tf.nn.top_k` will return the values and indices (class ids) of the top k predictions. So if k=3, for each sign, it'll return the 3 largest probabilities (out of a possible 43) and the correspoding class ids.\n",
    "\n",
    "Take this numpy array as an example. The values in the array represent predictions. The array contains softmax probabilities for five candidate images with six possible classes. `tf.nn.top_k` is used to choose the three classes with the highest probability:\n",
    "\n",
    "```\n",
    "# (5, 6) array\n",
    "a = np.array([[ 0.24879643,  0.07032244,  0.12641572,  0.34763842,  0.07893497,\n",
    "         0.12789202],\n",
    "       [ 0.28086119,  0.27569815,  0.08594638,  0.0178669 ,  0.18063401,\n",
    "         0.15899337],\n",
    "       [ 0.26076848,  0.23664738,  0.08020603,  0.07001922,  0.1134371 ,\n",
    "         0.23892179],\n",
    "       [ 0.11943333,  0.29198961,  0.02605103,  0.26234032,  0.1351348 ,\n",
    "         0.16505091],\n",
    "       [ 0.09561176,  0.34396535,  0.0643941 ,  0.16240774,  0.24206137,\n",
    "         0.09155967]])\n",
    "```\n",
    "\n",
    "Running it through `sess.run(tf.nn.top_k(tf.constant(a), k=3))` produces:\n",
    "\n",
    "```\n",
    "TopKV2(values=array([[ 0.34763842,  0.24879643,  0.12789202],\n",
    "       [ 0.28086119,  0.27569815,  0.18063401],\n",
    "       [ 0.26076848,  0.23892179,  0.23664738],\n",
    "       [ 0.29198961,  0.26234032,  0.16505091],\n",
    "       [ 0.34396535,  0.24206137,  0.16240774]]), indices=array([[3, 0, 5],\n",
    "       [0, 1, 4],\n",
    "       [0, 5, 1],\n",
    "       [1, 3, 5],\n",
    "       [1, 4, 3]], dtype=int32))\n",
    "```\n",
    "\n",
    "Looking just at the first row we get `[ 0.34763842,  0.24879643,  0.12789202]`, you can confirm these are the 3 largest probabilities in `a`. You'll also notice `[3, 0, 5]` are the corresponding indices."
   ]
  },
  {
   "cell_type": "code",
   "execution_count": 62,
   "metadata": {},
   "outputs": [
    {
     "name": "stdout",
     "output_type": "stream",
     "text": [
      "This image is: <class 'numpy.ndarray'> with dimensions: (5, 32, 32, 3)\n"
     ]
    },
    {
     "data": {
      "image/png": "[encoded data removed]",
      "text/plain": [
       "<matplotlib.figure.Figure at 0x10eca69b0>"
      ]
     },
     "metadata": {},
     "output_type": "display_data"
    }
   ],
   "source": [
    "### Print out the top five softmax probabilities for the predictions on the German traffic sign images found on the web. \n",
    "### Feel free to use as many code cells as needed.\n",
    "\n",
    "import matplotlib.pyplot as plt\n",
    "import matplotlib.image as mpimg\n",
    "import numpy as np\n",
    "import cv2\n",
    "%matplotlib inline\n",
    "\n",
    "num_display = 5\n",
    "batch_size = 1\n",
    "\n",
    "filename1 = 'images/sign_ex1.jpeg'\n",
    "filename2 = 'images/sign_ex2.jpeg'\n",
    "filename3 = 'images/sign_ex3.jpeg'\n",
    "filename4 = 'images/sign_ex4.jpeg'\n",
    "filename5 = 'images/sign_ex5.jpeg'\n",
    "\n",
    "#reading in an image\n",
    "image1 = mpimg.imread(filename1)\n",
    "image2 = mpimg.imread(filename2)\n",
    "image3 = mpimg.imread(filename3)\n",
    "image4 = mpimg.imread(filename4)\n",
    "image5 = mpimg.imread(filename5)\n",
    "\n",
    "img1 = cv2.resize(image1, (32, 32)) \n",
    "img2 = cv2.resize(image2, (32, 32))\n",
    "img3 = cv2.resize(image3, (32, 32))\n",
    "img4 = cv2.resize(image4, (32, 32))\n",
    "img5 = cv2.resize(image5, (32, 32))\n",
    "\n",
    "img1 = img1[newaxis, ...]\n",
    "img2 = img2[newaxis, ...]\n",
    "img3 = img3[newaxis, ...]\n",
    "img4 = img4[newaxis, ...]\n",
    "img5 = img5[newaxis, ...]\n",
    "\n",
    "X_images = np.append(img1, img2, axis = 0)\n",
    "X_images = np.append(X_images, img3, axis = 0)\n",
    "X_images = np.append(X_images, img4, axis = 0)\n",
    "X_images = np.append(X_images, img5, axis = 0)\n",
    "\n",
    "plt.imshow(X_images[0])\n",
    "print('This image is:', type(X_images), 'with dimensions:', X_images.shape)\n"
   ]
  },
  {
   "cell_type": "code",
   "execution_count": 63,
   "metadata": {},
   "outputs": [
    {
     "name": "stdout",
     "output_type": "stream",
     "text": [
      "(5, 32, 32, 3)\n",
      "(5, 32, 32)\n",
      "(5, 32, 32)\n",
      "(5, 32, 32, 1)\n"
     ]
    }
   ],
   "source": [
    "\n",
    "#X_images_gray = PreProcessorGray(X_images)\n",
    "#X_images_eq = PreProcessorEq(X_images_gray)\n",
    "\n",
    "#printing out some stats and plotting\n",
    "#plt.imshow(X_images_eq[0]) \n",
    "\n",
    "#cross_entropy = tf.nn.softmax_cross_entropy_with_logits(labels=one_hot_y, logits=logits)\n",
    "#loss_operation = tf.reduce_mean(cross_entropy)\n",
    "#            sess.run(training_operation, \\\n",
    "#                     feed_dict={x: batch_x, y: batch_y, keep_drop: KEEP_DROP})\n",
    "\n",
    "saver = tf.train.Saver()\n",
    "\n",
    "with tf.Session() as sess:\n",
    "    #saver.restore(sess, tf.train.latest_checkpoint('.'))\n",
    "    saver.restore(sess, './lenet')\n",
    "    \n",
    "    print(X_images.shape)\n",
    "    \n",
    "    X_images_norm = PreProcessorGray(X_images)\n",
    "    print(X_images_norm.shape)\n",
    "    X_images_norm = PreProcessorEq(X_images_norm)\n",
    "\n",
    "    print(X_images_norm.shape)\n",
    "        \n",
    "    X_images_norm = X_images_norm[..., newaxis]\n",
    "    ## Normalize\n",
    "    X_images_norm = (X_images_norm - 0) / 256\n",
    "    \n",
    "    #offset = 0\n",
    "    #end = offset + num_display\n",
    "    #batch_x, batch_y = X_valid_norm[offset:end], y_valid_sf[offset:end]\n",
    "    \n",
    "    print(X_images_norm.shape)\n",
    "    #plt.imshow(X_images_norm[0], cmap='gray')\n",
    "    \n",
    "    logits_out = sess.run(logits, feed_dict={x: X_images_norm, keep_drop: 1.0})\n",
    "    softmax = tf.nn.softmax(logits_out)\n",
    "    \n",
    "    top5value, top5indices = sess.run(tf.nn.top_k(softmax, k=5))\n",
    "\n",
    "    top5value_l, top5indices_l = sess.run(tf.nn.top_k(logits_out, k=5))\n",
    "        \n"
   ]
  },
  {
   "cell_type": "code",
   "execution_count": 64,
   "metadata": {},
   "outputs": [
    {
     "name": "stdout",
     "output_type": "stream",
     "text": [
      "[[ 4  1 25 31 27]\n",
      " [ 5  1 16  0  3]\n",
      " [ 5 26  7 20  2]\n",
      " [ 3  5  2 29 15]\n",
      " [17 39 12 14  8]]\n",
      "\n",
      "Image # =  0\n",
      "softmax value:  [ 0.53564739  0.3869074   0.05873288  0.00766267  0.0030809 ]\n",
      "softmax index:  [ 4  1 25 31 27]\n",
      "logits value:  [ 7.72929001  7.40399933  5.51881361  3.48217416  2.57103443]\n",
      "logits index:  [ 4  1 25 31 27]\n",
      "\n",
      "Image # =  1\n",
      "softmax value:  [ 0.43159956  0.10281018  0.10176297  0.08501356  0.07055781]\n",
      "softmax index:  [ 5  1 16  0  3]\n",
      "logits value:  [ 3.38712096  1.95250714  1.94226909  1.76243353  1.57605517]\n",
      "logits index:  [ 5  1 16  0  3]\n",
      "\n",
      "Image # =  2\n",
      "softmax value:  [ 0.14612441  0.10502974  0.07980778  0.06720469  0.05328649]\n",
      "softmax index:  [ 5 26  7 20  2]\n",
      "logits value:  [ 1.0459609   0.71574605  0.4411236   0.26924562  0.03718527]\n",
      "logits index:  [ 5 26  7 20  2]\n",
      "\n",
      "Image # =  3\n",
      "softmax value:  [  9.99816597e-01   1.82887350e-04   3.35499465e-07   8.52062598e-08\n",
      "   7.85289345e-08]\n",
      "softmax index:  [ 3  5  2 29 15]\n",
      "logits value:  [ 18.98989677  10.38344002   4.08243465   2.71188879   2.63028193]\n",
      "logits index:  [ 3  5  2 29 15]\n",
      "\n",
      "Image # =  4\n",
      "softmax value:  [  9.99911308e-01   2.17508023e-05   2.15865166e-05   1.84807159e-05\n",
      "   1.08010181e-05]\n",
      "softmax index:  [17 39 12 14  8]\n",
      "logits value:  [ 12.71932316   1.98355246   1.97597063   1.82062888   1.28354204]\n",
      "logits index:  [17 39 12 14  8]\n"
     ]
    },
    {
     "data": {
      "image/png": "[encoded data removed]",
      "text/plain": [
       "<matplotlib.figure.Figure at 0x10ecbd6d8>"
      ]
     },
     "metadata": {},
     "output_type": "display_data"
    }
   ],
   "source": [
    "import math\n",
    "import cv2\n",
    "# Display\n",
    "    \n",
    "#fig = plt.figure()\n",
    "fig = plt.figure(figsize = (10,10))\n",
    "\n",
    "print(top5indices)\n",
    "\n",
    "for i in range(0, num_display):\n",
    "    print('\\nImage # = ', + i)\n",
    "    print('softmax value: ', + top5value[i])\n",
    "    print('softmax index: ', + top5indices[i])\n",
    "    \n",
    "    print('logits value: ', + top5value_l[i])\n",
    "    print('logits index: ', + top5indices_l[i])\n",
    "\n",
    "\n",
    "    #print(\"Label {:}\".format(batch_y[i]))\n",
    "    \n",
    "    #image_raw = X_valid_sf[i].squeeze()\n",
    "    image_raw = X_images[i].squeeze()\n",
    "    \n",
    "    a=fig.add_subplot(1, num_display, i+1)\n",
    "\n",
    "    imageTest = image_raw\n",
    "    plt.imshow(imageTest)\n",
    "\n",
    "    "
   ]
  },
  {
   "cell_type": "code",
   "execution_count": 65,
   "metadata": {},
   "outputs": [
    {
     "data": {
      "image/png": "[encoded data removed]",
      "text/plain": [
       "<matplotlib.figure.Figure at 0x110cc5da0>"
      ]
     },
     "metadata": {},
     "output_type": "display_data"
    },
    {
     "name": "stdout",
     "output_type": "stream",
     "text": [
      "[0.53564739, 0.3869074, 0.058732878, 0.007662666, 0.0030808961]\n"
     ]
    },
    {
     "data": {
      "image/png": "[encoded data removed]",
      "text/plain": [
       "<matplotlib.figure.Figure at 0x10cf9e0f0>"
      ]
     },
     "metadata": {},
     "output_type": "display_data"
    },
    {
     "name": "stdout",
     "output_type": "stream",
     "text": [
      "[0.43159956, 0.10281018, 0.10176297, 0.085013561, 0.07055781]\n"
     ]
    },
    {
     "data": {
      "image/png": "[encoded data removed]",
      "text/plain": [
       "<matplotlib.figure.Figure at 0x10cf9ea90>"
      ]
     },
     "metadata": {},
     "output_type": "display_data"
    },
    {
     "name": "stdout",
     "output_type": "stream",
     "text": [
      "[0.14612441, 0.10502974, 0.079807781, 0.067204691, 0.053286489]\n"
     ]
    },
    {
     "data": {
      "image/png": "[encoded data removed]",
      "text/plain": [
       "<matplotlib.figure.Figure at 0x11073de48>"
      ]
     },
     "metadata": {},
     "output_type": "display_data"
    },
    {
     "name": "stdout",
     "output_type": "stream",
     "text": [
      "[0.9998166, 0.00018288735, 3.3549946e-07, 8.520626e-08, 7.8528934e-08]\n"
     ]
    },
    {
     "data": {
      "image/png": "[encoded data removed]",
      "text/plain": [
       "<matplotlib.figure.Figure at 0x110c2f0b8>"
      ]
     },
     "metadata": {},
     "output_type": "display_data"
    },
    {
     "name": "stdout",
     "output_type": "stream",
     "text": [
      "[0.99991131, 2.1750802e-05, 2.1586517e-05, 1.8480716e-05, 1.0801018e-05]\n"
     ]
    }
   ],
   "source": [
    "x = np.arange(5)\n",
    "\n",
    "for i in range(0, num_display):\n",
    "    num_data =[top5value[i, 0], top5value[i, 1], top5value[i, 2], top5value[i, 3], top5value[i, 4]]\n",
    "\n",
    "    fig, ax = plt.subplots()\n",
    "    plt.bar(x, num_data)\n",
    "    #plt.xticks(x, (top5indices[0], top5indices[1], top5indices[2], top5indices[3], top5indices[4]))\n",
    "    ax.set_ylabel('Probability')\n",
    "    ax.set_title('Probability of Top 5 detections')\n",
    "    plt.show()\n",
    "    print(num_data)"
   ]
  },
  {
   "cell_type": "markdown",
   "metadata": {},
   "source": [
    "\n",
    "### Project Writeup\n",
    "\n",
    "Once you have completed the code implementation, document your results in a project writeup using this [template](https://github.com/udacity/CarND-Traffic-Sign-Classifier-Project/blob/master/writeup_template.md) as a guide. The writeup can be in a markdown or pdf file. "
   ]
  },
  {
   "cell_type": "markdown",
   "metadata": {},
   "source": [
    "> **Note**: Once you have completed all of the code implementations and successfully answered each question above, you may finalize your work by exporting the iPython Notebook as an HTML document. You can do this by using the menu above and navigating to  \\n\",\n",
    "    \"**File -> Download as -> HTML (.html)**. Include the finished document along with this notebook as your submission."
   ]
  },
  {
   "cell_type": "markdown",
   "metadata": {},
   "source": [
    "---\n",
    "\n",
    "## Step 4 (Optional): Visualize the Neural Network's State with Test Images\n",
    "\n",
    " This Section is not required to complete but acts as an additional excersise for understaning the output of a neural network's weights. While neural networks can be a great learning device they are often referred to as a black box. We can understand what the weights of a neural network look like better by plotting their feature maps. After successfully training your neural network you can see what it's feature maps look like by plotting the output of the network's weight layers in response to a test stimuli image. From these plotted feature maps, it's possible to see what characteristics of an image the network finds interesting. For a sign, maybe the inner network feature maps react with high activation to the sign's boundary outline or to the contrast in the sign's painted symbol.\n",
    "\n",
    " Provided for you below is the function code that allows you to get the visualization output of any tensorflow weight layer you want. The inputs to the function should be a stimuli image, one used during training or a new one you provided, and then the tensorflow variable name that represents the layer's state during the training process, for instance if you wanted to see what the [LeNet lab's](https://classroom.udacity.com/nanodegrees/nd013/parts/fbf77062-5703-404e-b60c-95b78b2f3f9e/modules/6df7ae49-c61c-4bb2-a23e-6527e69209ec/lessons/601ae704-1035-4287-8b11-e2c2716217ad/concepts/d4aca031-508f-4e0b-b493-e7b706120f81) feature maps looked like for it's second convolutional layer you could enter conv2 as the tf_activation variable.\n",
    "\n",
    "For an example of what feature map outputs look like, check out NVIDIA's results in their paper [End-to-End Deep Learning for Self-Driving Cars](https://devblogs.nvidia.com/parallelforall/deep-learning-self-driving-cars/) in the section Visualization of internal CNN State. NVIDIA was able to show that their network's inner weights had high activations to road boundary lines by comparing feature maps from an image with a clear path to one without. Try experimenting with a similar test to show that your trained network's weights are looking for interesting features, whether it's looking at differences in feature maps from images with or without a sign, or even what feature maps look like in a trained network vs a completely untrained one on the same sign image.\n",
    "\n",
    "<figure>\n",
    " <img src=\"visualize_cnn.png\" width=\"380\" alt=\"Combined Image\" />\n",
    " <figcaption>\n",
    " <p></p> \n",
    " <p style=\"text-align: center;\"> Your output should look something like this (above)</p> \n",
    " </figcaption>\n",
    "</figure>\n",
    " <p></p> \n"
   ]
  },
  {
   "cell_type": "code",
   "execution_count": 66,
   "metadata": {
    "collapsed": true
   },
   "outputs": [],
   "source": [
    "### Visualize your network's feature maps here.\n",
    "### Feel free to use as many code cells as needed.\n",
    "\n",
    "# image_input: the test image being fed into the network to produce the feature maps\n",
    "# tf_activation: should be a tf variable name used during your training procedure that represents the calculated state of a specific weight layer\n",
    "# activation_min/max: can be used to view the activation contrast in more detail, by default matplot sets min and max to the actual min and max values of the output\n",
    "# plt_num: used to plot out multiple different weight feature map sets on the same block, just extend the plt number for each new feature map entry\n",
    "\n",
    "def outputFeatureMap(image_input, tf_activation, activation_min=-1, activation_max=-1 ,plt_num=1):\n",
    "    # Here make sure to preprocess your image_input in a way your network expects\n",
    "    # with size, normalization, ect if needed\n",
    "    # image_input =\n",
    "    # Note: x should be the same name as your network's tensorflow data placeholder variable\n",
    "    # If you get an error tf_activation is not defined it may be having trouble accessing the variable from inside a function\n",
    "    activation = tf_activation.eval(session=sess,feed_dict={x : image_input})\n",
    "    featuremaps = activation.shape[3]\n",
    "    plt.figure(plt_num, figsize=(15,15))\n",
    "    for featuremap in range(featuremaps):\n",
    "        plt.subplot(6,8, featuremap+1) # sets the number of feature maps to show on each row and column\n",
    "        plt.title('FeatureMap ' + str(featuremap)) # displays the feature map number\n",
    "        if activation_min != -1 & activation_max != -1:\n",
    "            plt.imshow(activation[0,:,:, featuremap], interpolation=\"nearest\", vmin =activation_min, vmax=activation_max, cmap=\"gray\")\n",
    "        elif activation_max != -1:\n",
    "            plt.imshow(activation[0,:,:, featuremap], interpolation=\"nearest\", vmax=activation_max, cmap=\"gray\")\n",
    "        elif activation_min !=-1:\n",
    "            plt.imshow(activation[0,:,:, featuremap], interpolation=\"nearest\", vmin=activation_min, cmap=\"gray\")\n",
    "        else:\n",
    "            plt.imshow(activation[0,:,:, featuremap], interpolation=\"nearest\", cmap=\"gray\")"
   ]
  },
  {
   "cell_type": "code",
   "execution_count": 68,
   "metadata": {},
   "outputs": [
    {
     "name": "stdout",
     "output_type": "stream",
     "text": [
      "Load F_W1: F_W1_2:0\n",
      "Load F_B1: F_B1_2:0\n"
     ]
    }
   ],
   "source": [
    "X_train_sf, y_train_sf = shuffle(X_train_norm, y_train)\n",
    "\n",
    "# Remove the previous weights and bias\n",
    "#tf.reset_default_graph()\n",
    "\n",
    "# Variables to Restore: weights and bias\n",
    "mu = 0.0\n",
    "sigma = 0.1\n",
    "    \n",
    "# TODO: Layer 1: Convolutional. Input = 32x32x1. Output = 28x28x12.\n",
    "#F_W1 = tf.Variable(tf.truncated_normal([5, 5, 1, 12], mean = mu, stddev = sigma), name='F_W1')\n",
    "#F_B1 = tf.Variable(tf.zeros([12]), name='F_B1')\n",
    "\n",
    "# TODO: Layer 2: Convolutional. Output = 10x10x32.\n",
    "#F_W2 = tf.Variable(tf.truncated_normal([5, 5, 12, 32], mean = mu, stddev = sigma), name='F_W2')\n",
    "#F_B2 = tf.Variable(tf.zeros([32]), name='F_B2')\n",
    "\n",
    "# TODO: Layer 3: Fully Connected. Input = 800. Output = 240.\n",
    "#F_W3 = tf.Variable(tf.truncated_normal([800, 240], mean = mu, stddev = sigma), name='F_W3')\n",
    "#F_B3 = tf.Variable(tf.zeros([240]), name='F_B3')\n",
    "\n",
    "# TODO: Layer 4: Fully Connected. Input = 240. Output = 168.\n",
    "#F_W4 = tf.Variable(tf.truncated_normal([240, 168]), name='F_W4')\n",
    "#F_B4 = tf.Variable(tf.zeros([168]), name='F_B4')\n",
    "\n",
    "# TODO: Layer 5: Fully Connected. Input = 168. Output = n_classes.\n",
    "#F_W5 = tf.Variable(tf.truncated_normal([168, n_classes], mean = mu, stddev = sigma), name='F_W5')\n",
    "#F_B5 = tf.Variable(tf.zeros(n_classes), name='F_B5')\n",
    "\n",
    "\n",
    "\n",
    "saver = tf.train.Saver()\n",
    "\n",
    "# Print the name of Weights and Bias\n",
    "print('Load F_W1: {}'.format(F_W1.name))\n",
    "print('Load F_B1: {}'.format(F_B1.name))\n",
    "\n",
    "with tf.Session() as sess:\n",
    "    saver.restore(sess, './lenet')\n",
    "    \n",
    "    #outputFeatureMap(X_train_sf[0], logits)\n",
    "    #outputFeatureMap(X_train_sf[0], F_W1, activation_min=-1, activation_max=-1 ,plt_num=1)\n"
   ]
  },
  {
   "cell_type": "code",
   "execution_count": null,
   "metadata": {
    "collapsed": true
   },
   "outputs": [],
   "source": []
  }
 ],
 "metadata": {
  "anaconda-cloud": {},
  "kernelspec": {
   "display_name": "Python 3",
   "language": "python",
   "name": "python3"
  },
  "language_info": {
   "codemirror_mode": {
    "name": "ipython",
    "version": 3
   },
   "file_extension": ".py",
   "mimetype": "text/x-python",
   "name": "python",
   "nbconvert_exporter": "python",
   "pygments_lexer": "ipython3",
   "version": "3.5.2"
  },
  "widgets": {
   "state": {},
   "version": "1.1.2"
  }
 },
 "nbformat": 4,
 "nbformat_minor": 1
}
